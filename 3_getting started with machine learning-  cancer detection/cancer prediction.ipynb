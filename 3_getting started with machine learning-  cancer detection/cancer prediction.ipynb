{
  "nbformat": 4,
  "nbformat_minor": 0,
  "metadata": {
    "colab": {
      "name": "simple.ipynb",
      "provenance": [],
      "collapsed_sections": []
    },
    "kernelspec": {
      "name": "python3",
      "display_name": "Python 3"
    }
  },
  "cells": [
    {
      "cell_type": "code",
      "metadata": {
        "id": "cgflNygSVmxT",
        "outputId": "e174dc71-7c36-4cf8-862f-b4338bdfee8c",
        "colab": {
          "base_uri": "https://localhost:8080/",
          "height": 72
        }
      },
      "source": [
        "# imports\n",
        "import pandas as pd\n",
        "import numpy as np\n",
        "import matplotlib.pyplot as plt\n",
        "import seaborn as sns"
      ],
      "execution_count": null,
      "outputs": [
        {
          "output_type": "stream",
          "text": [
            "/usr/local/lib/python3.6/dist-packages/statsmodels/tools/_testing.py:19: FutureWarning: pandas.util.testing is deprecated. Use the functions in the public API at pandas.testing instead.\n",
            "  import pandas.util.testing as tm\n"
          ],
          "name": "stderr"
        }
      ]
    },
    {
      "cell_type": "code",
      "metadata": {
        "id": "ukz80YRRGYYf",
        "outputId": "e66077ee-5f32-4d9f-c850-860059ebda2e",
        "colab": {
          "base_uri": "https://localhost:8080/",
          "height": 257
        }
      },
      "source": [
        "# 1> load the data\n",
        "# https://goo.gl/U2Uwz2\n",
        "\n",
        "df = pd.read_csv('cancer_classification.csv')\n",
        "df.head()"
      ],
      "execution_count": null,
      "outputs": [
        {
          "output_type": "execute_result",
          "data": {
            "text/html": [
              "<div>\n",
              "<style scoped>\n",
              "    .dataframe tbody tr th:only-of-type {\n",
              "        vertical-align: middle;\n",
              "    }\n",
              "\n",
              "    .dataframe tbody tr th {\n",
              "        vertical-align: top;\n",
              "    }\n",
              "\n",
              "    .dataframe thead th {\n",
              "        text-align: right;\n",
              "    }\n",
              "</style>\n",
              "<table border=\"1\" class=\"dataframe\">\n",
              "  <thead>\n",
              "    <tr style=\"text-align: right;\">\n",
              "      <th></th>\n",
              "      <th>mean radius</th>\n",
              "      <th>mean texture</th>\n",
              "      <th>mean perimeter</th>\n",
              "      <th>mean area</th>\n",
              "      <th>mean smoothness</th>\n",
              "      <th>mean compactness</th>\n",
              "      <th>mean concavity</th>\n",
              "      <th>mean concave points</th>\n",
              "      <th>mean symmetry</th>\n",
              "      <th>mean fractal dimension</th>\n",
              "      <th>radius error</th>\n",
              "      <th>texture error</th>\n",
              "      <th>perimeter error</th>\n",
              "      <th>area error</th>\n",
              "      <th>smoothness error</th>\n",
              "      <th>compactness error</th>\n",
              "      <th>concavity error</th>\n",
              "      <th>concave points error</th>\n",
              "      <th>symmetry error</th>\n",
              "      <th>fractal dimension error</th>\n",
              "      <th>worst radius</th>\n",
              "      <th>worst texture</th>\n",
              "      <th>worst perimeter</th>\n",
              "      <th>worst area</th>\n",
              "      <th>worst smoothness</th>\n",
              "      <th>worst compactness</th>\n",
              "      <th>worst concavity</th>\n",
              "      <th>worst concave points</th>\n",
              "      <th>worst symmetry</th>\n",
              "      <th>worst fractal dimension</th>\n",
              "      <th>benign_0__mal_1</th>\n",
              "    </tr>\n",
              "  </thead>\n",
              "  <tbody>\n",
              "    <tr>\n",
              "      <th>0</th>\n",
              "      <td>17.99</td>\n",
              "      <td>10.38</td>\n",
              "      <td>122.80</td>\n",
              "      <td>1001.0</td>\n",
              "      <td>0.11840</td>\n",
              "      <td>0.27760</td>\n",
              "      <td>0.3001</td>\n",
              "      <td>0.14710</td>\n",
              "      <td>0.2419</td>\n",
              "      <td>0.07871</td>\n",
              "      <td>1.0950</td>\n",
              "      <td>0.9053</td>\n",
              "      <td>8.589</td>\n",
              "      <td>153.40</td>\n",
              "      <td>0.006399</td>\n",
              "      <td>0.04904</td>\n",
              "      <td>0.05373</td>\n",
              "      <td>0.01587</td>\n",
              "      <td>0.03003</td>\n",
              "      <td>0.006193</td>\n",
              "      <td>25.38</td>\n",
              "      <td>17.33</td>\n",
              "      <td>184.60</td>\n",
              "      <td>2019.0</td>\n",
              "      <td>0.1622</td>\n",
              "      <td>0.6656</td>\n",
              "      <td>0.7119</td>\n",
              "      <td>0.2654</td>\n",
              "      <td>0.4601</td>\n",
              "      <td>0.11890</td>\n",
              "      <td>0</td>\n",
              "    </tr>\n",
              "    <tr>\n",
              "      <th>1</th>\n",
              "      <td>20.57</td>\n",
              "      <td>17.77</td>\n",
              "      <td>132.90</td>\n",
              "      <td>1326.0</td>\n",
              "      <td>0.08474</td>\n",
              "      <td>0.07864</td>\n",
              "      <td>0.0869</td>\n",
              "      <td>0.07017</td>\n",
              "      <td>0.1812</td>\n",
              "      <td>0.05667</td>\n",
              "      <td>0.5435</td>\n",
              "      <td>0.7339</td>\n",
              "      <td>3.398</td>\n",
              "      <td>74.08</td>\n",
              "      <td>0.005225</td>\n",
              "      <td>0.01308</td>\n",
              "      <td>0.01860</td>\n",
              "      <td>0.01340</td>\n",
              "      <td>0.01389</td>\n",
              "      <td>0.003532</td>\n",
              "      <td>24.99</td>\n",
              "      <td>23.41</td>\n",
              "      <td>158.80</td>\n",
              "      <td>1956.0</td>\n",
              "      <td>0.1238</td>\n",
              "      <td>0.1866</td>\n",
              "      <td>0.2416</td>\n",
              "      <td>0.1860</td>\n",
              "      <td>0.2750</td>\n",
              "      <td>0.08902</td>\n",
              "      <td>0</td>\n",
              "    </tr>\n",
              "    <tr>\n",
              "      <th>2</th>\n",
              "      <td>19.69</td>\n",
              "      <td>21.25</td>\n",
              "      <td>130.00</td>\n",
              "      <td>1203.0</td>\n",
              "      <td>0.10960</td>\n",
              "      <td>0.15990</td>\n",
              "      <td>0.1974</td>\n",
              "      <td>0.12790</td>\n",
              "      <td>0.2069</td>\n",
              "      <td>0.05999</td>\n",
              "      <td>0.7456</td>\n",
              "      <td>0.7869</td>\n",
              "      <td>4.585</td>\n",
              "      <td>94.03</td>\n",
              "      <td>0.006150</td>\n",
              "      <td>0.04006</td>\n",
              "      <td>0.03832</td>\n",
              "      <td>0.02058</td>\n",
              "      <td>0.02250</td>\n",
              "      <td>0.004571</td>\n",
              "      <td>23.57</td>\n",
              "      <td>25.53</td>\n",
              "      <td>152.50</td>\n",
              "      <td>1709.0</td>\n",
              "      <td>0.1444</td>\n",
              "      <td>0.4245</td>\n",
              "      <td>0.4504</td>\n",
              "      <td>0.2430</td>\n",
              "      <td>0.3613</td>\n",
              "      <td>0.08758</td>\n",
              "      <td>0</td>\n",
              "    </tr>\n",
              "    <tr>\n",
              "      <th>3</th>\n",
              "      <td>11.42</td>\n",
              "      <td>20.38</td>\n",
              "      <td>77.58</td>\n",
              "      <td>386.1</td>\n",
              "      <td>0.14250</td>\n",
              "      <td>0.28390</td>\n",
              "      <td>0.2414</td>\n",
              "      <td>0.10520</td>\n",
              "      <td>0.2597</td>\n",
              "      <td>0.09744</td>\n",
              "      <td>0.4956</td>\n",
              "      <td>1.1560</td>\n",
              "      <td>3.445</td>\n",
              "      <td>27.23</td>\n",
              "      <td>0.009110</td>\n",
              "      <td>0.07458</td>\n",
              "      <td>0.05661</td>\n",
              "      <td>0.01867</td>\n",
              "      <td>0.05963</td>\n",
              "      <td>0.009208</td>\n",
              "      <td>14.91</td>\n",
              "      <td>26.50</td>\n",
              "      <td>98.87</td>\n",
              "      <td>567.7</td>\n",
              "      <td>0.2098</td>\n",
              "      <td>0.8663</td>\n",
              "      <td>0.6869</td>\n",
              "      <td>0.2575</td>\n",
              "      <td>0.6638</td>\n",
              "      <td>0.17300</td>\n",
              "      <td>0</td>\n",
              "    </tr>\n",
              "    <tr>\n",
              "      <th>4</th>\n",
              "      <td>20.29</td>\n",
              "      <td>14.34</td>\n",
              "      <td>135.10</td>\n",
              "      <td>1297.0</td>\n",
              "      <td>0.10030</td>\n",
              "      <td>0.13280</td>\n",
              "      <td>0.1980</td>\n",
              "      <td>0.10430</td>\n",
              "      <td>0.1809</td>\n",
              "      <td>0.05883</td>\n",
              "      <td>0.7572</td>\n",
              "      <td>0.7813</td>\n",
              "      <td>5.438</td>\n",
              "      <td>94.44</td>\n",
              "      <td>0.011490</td>\n",
              "      <td>0.02461</td>\n",
              "      <td>0.05688</td>\n",
              "      <td>0.01885</td>\n",
              "      <td>0.01756</td>\n",
              "      <td>0.005115</td>\n",
              "      <td>22.54</td>\n",
              "      <td>16.67</td>\n",
              "      <td>152.20</td>\n",
              "      <td>1575.0</td>\n",
              "      <td>0.1374</td>\n",
              "      <td>0.2050</td>\n",
              "      <td>0.4000</td>\n",
              "      <td>0.1625</td>\n",
              "      <td>0.2364</td>\n",
              "      <td>0.07678</td>\n",
              "      <td>0</td>\n",
              "    </tr>\n",
              "  </tbody>\n",
              "</table>\n",
              "</div>"
            ],
            "text/plain": [
              "   mean radius  mean texture  ...  worst fractal dimension  benign_0__mal_1\n",
              "0        17.99         10.38  ...                  0.11890                0\n",
              "1        20.57         17.77  ...                  0.08902                0\n",
              "2        19.69         21.25  ...                  0.08758                0\n",
              "3        11.42         20.38  ...                  0.17300                0\n",
              "4        20.29         14.34  ...                  0.07678                0\n",
              "\n",
              "[5 rows x 31 columns]"
            ]
          },
          "metadata": {
            "tags": []
          },
          "execution_count": 3
        }
      ]
    },
    {
      "cell_type": "code",
      "metadata": {
        "id": "rQiDzWrnyl4U",
        "outputId": "2c08056b-4d0c-4b48-abf9-e2c514da1d56",
        "colab": {
          "base_uri": "https://localhost:8080/",
          "height": 676
        }
      },
      "source": [
        "df.info()"
      ],
      "execution_count": null,
      "outputs": [
        {
          "output_type": "stream",
          "text": [
            "<class 'pandas.core.frame.DataFrame'>\n",
            "RangeIndex: 569 entries, 0 to 568\n",
            "Data columns (total 31 columns):\n",
            " #   Column                   Non-Null Count  Dtype  \n",
            "---  ------                   --------------  -----  \n",
            " 0   mean radius              569 non-null    float64\n",
            " 1   mean texture             569 non-null    float64\n",
            " 2   mean perimeter           569 non-null    float64\n",
            " 3   mean area                569 non-null    float64\n",
            " 4   mean smoothness          569 non-null    float64\n",
            " 5   mean compactness         569 non-null    float64\n",
            " 6   mean concavity           569 non-null    float64\n",
            " 7   mean concave points      569 non-null    float64\n",
            " 8   mean symmetry            569 non-null    float64\n",
            " 9   mean fractal dimension   569 non-null    float64\n",
            " 10  radius error             569 non-null    float64\n",
            " 11  texture error            569 non-null    float64\n",
            " 12  perimeter error          569 non-null    float64\n",
            " 13  area error               569 non-null    float64\n",
            " 14  smoothness error         569 non-null    float64\n",
            " 15  compactness error        569 non-null    float64\n",
            " 16  concavity error          569 non-null    float64\n",
            " 17  concave points error     569 non-null    float64\n",
            " 18  symmetry error           569 non-null    float64\n",
            " 19  fractal dimension error  569 non-null    float64\n",
            " 20  worst radius             569 non-null    float64\n",
            " 21  worst texture            569 non-null    float64\n",
            " 22  worst perimeter          569 non-null    float64\n",
            " 23  worst area               569 non-null    float64\n",
            " 24  worst smoothness         569 non-null    float64\n",
            " 25  worst compactness        569 non-null    float64\n",
            " 26  worst concavity          569 non-null    float64\n",
            " 27  worst concave points     569 non-null    float64\n",
            " 28  worst symmetry           569 non-null    float64\n",
            " 29  worst fractal dimension  569 non-null    float64\n",
            " 30  benign_0__mal_1          569 non-null    int64  \n",
            "dtypes: float64(30), int64(1)\n",
            "memory usage: 137.9 KB\n"
          ],
          "name": "stdout"
        }
      ]
    },
    {
      "cell_type": "code",
      "metadata": {
        "id": "5grIYINcyl7U",
        "outputId": "1ec331e2-3bd6-4dc7-ecb7-291ccf7903d6",
        "colab": {
          "base_uri": "https://localhost:8080/",
          "height": 208
        }
      },
      "source": [
        "df.columns"
      ],
      "execution_count": null,
      "outputs": [
        {
          "output_type": "execute_result",
          "data": {
            "text/plain": [
              "Index(['mean radius', 'mean texture', 'mean perimeter', 'mean area',\n",
              "       'mean smoothness', 'mean compactness', 'mean concavity',\n",
              "       'mean concave points', 'mean symmetry', 'mean fractal dimension',\n",
              "       'radius error', 'texture error', 'perimeter error', 'area error',\n",
              "       'smoothness error', 'compactness error', 'concavity error',\n",
              "       'concave points error', 'symmetry error', 'fractal dimension error',\n",
              "       'worst radius', 'worst texture', 'worst perimeter', 'worst area',\n",
              "       'worst smoothness', 'worst compactness', 'worst concavity',\n",
              "       'worst concave points', 'worst symmetry', 'worst fractal dimension',\n",
              "       'benign_0__mal_1'],\n",
              "      dtype='object')"
            ]
          },
          "metadata": {
            "tags": []
          },
          "execution_count": 5
        }
      ]
    },
    {
      "cell_type": "code",
      "metadata": {
        "id": "ySUUxz80yl9-",
        "outputId": "b548de4c-4782-416e-a7ff-2adf80ce9930",
        "colab": {
          "base_uri": "https://localhost:8080/",
          "height": 35
        }
      },
      "source": [
        "len(df.columns)"
      ],
      "execution_count": null,
      "outputs": [
        {
          "output_type": "execute_result",
          "data": {
            "text/plain": [
              "31"
            ]
          },
          "metadata": {
            "tags": []
          },
          "execution_count": 6
        }
      ]
    },
    {
      "cell_type": "code",
      "metadata": {
        "id": "m8rfcIsCymAu",
        "outputId": "b07e8e10-4162-4d6e-a8d0-929aa4bb6431",
        "colab": {
          "base_uri": "https://localhost:8080/",
          "height": 35
        }
      },
      "source": [
        "df.shape"
      ],
      "execution_count": null,
      "outputs": [
        {
          "output_type": "execute_result",
          "data": {
            "text/plain": [
              "(569, 31)"
            ]
          },
          "metadata": {
            "tags": []
          },
          "execution_count": 7
        }
      ]
    },
    {
      "cell_type": "code",
      "metadata": {
        "id": "6h2lfMAmymDQ",
        "outputId": "91bb58f0-7761-4b04-e799-79eff4566ded",
        "colab": {
          "base_uri": "https://localhost:8080/",
          "height": 297
        }
      },
      "source": [
        "sns.countplot(x = \"benign_0__mal_1\", data = df)"
      ],
      "execution_count": null,
      "outputs": [
        {
          "output_type": "execute_result",
          "data": {
            "text/plain": [
              "<matplotlib.axes._subplots.AxesSubplot at 0x7f14202078d0>"
            ]
          },
          "metadata": {
            "tags": []
          },
          "execution_count": 8
        },
        {
          "output_type": "display_data",
          "data": {
            "image/png": "[encoded data removed]",
            "text/plain": [
              "<Figure size 432x288 with 1 Axes>"
            ]
          },
          "metadata": {
            "tags": [],
            "needs_background": "light"
          }
        }
      ]
    },
    {
      "cell_type": "code",
      "metadata": {
        "id": "2L2HZLtOymFx",
        "outputId": "ba2f907a-2ac4-48b3-8dbd-9d08f506e598",
        "colab": {
          "base_uri": "https://localhost:8080/",
          "height": 369
        }
      },
      "source": [
        "sns.heatmap(df.corr())"
      ],
      "execution_count": null,
      "outputs": [
        {
          "output_type": "execute_result",
          "data": {
            "text/plain": [
              "<matplotlib.axes._subplots.AxesSubplot at 0x7f141fface10>"
            ]
          },
          "metadata": {
            "tags": []
          },
          "execution_count": 10
        },
        {
          "output_type": "display_data",
          "data": {
            "image/png": "[encoded data removed]",
            "text/plain": [
              "<Figure size 432x288 with 2 Axes>"
            ]
          },
          "metadata": {
            "tags": [],
            "needs_background": "light"
          }
        }
      ]
    },
    {
      "cell_type": "code",
      "metadata": {
        "id": "r5eFF5ZaymIF",
        "outputId": "74031329-51a1-4fcd-b9ed-acb4c6583288",
        "colab": {
          "base_uri": "https://localhost:8080/",
          "height": 297
        }
      },
      "source": [
        "sns.scatterplot(x='mean radius', y = 'mean symmetry',size='mean concavity', hue='benign_0__mal_1',data=df)"
      ],
      "execution_count": null,
      "outputs": [
        {
          "output_type": "execute_result",
          "data": {
            "text/plain": [
              "<matplotlib.axes._subplots.AxesSubplot at 0x7f141ffac828>"
            ]
          },
          "metadata": {
            "tags": []
          },
          "execution_count": 14
        },
        {
          "output_type": "display_data",
          "data": {
            "image/png": "[encoded data removed]",
            "text/plain": [
              "<Figure size 432x288 with 1 Axes>"
            ]
          },
          "metadata": {
            "tags": [],
            "needs_background": "light"
          }
        }
      ]
    },
    {
      "cell_type": "code",
      "metadata": {
        "id": "EBVzeZ9QymKt",
        "outputId": "5cf98881-eff5-4cb4-b356-557f9233d2ef",
        "colab": {
          "base_uri": "https://localhost:8080/",
          "height": 297
        }
      },
      "source": [
        "sns.boxplot(x='benign_0__mal_1',y='mean radius',data=df)"
      ],
      "execution_count": null,
      "outputs": [
        {
          "output_type": "execute_result",
          "data": {
            "text/plain": [
              "<matplotlib.axes._subplots.AxesSubplot at 0x7f141be8b048>"
            ]
          },
          "metadata": {
            "tags": []
          },
          "execution_count": 15
        },
        {
          "output_type": "display_data",
          "data": {
            "image/png": "[encoded data removed]",
            "text/plain": [
              "<Figure size 432x288 with 1 Axes>"
            ]
          },
          "metadata": {
            "tags": [],
            "needs_background": "light"
          }
        }
      ]
    },
    {
      "cell_type": "code",
      "metadata": {
        "id": "hqXZgoBEymNQ"
      },
      "source": [
        "X = df.drop('benign_0__mal_1',axis=1).values\n",
        "y = df['benign_0__mal_1'].values"
      ],
      "execution_count": null,
      "outputs": []
    },
    {
      "cell_type": "code",
      "metadata": {
        "id": "mE3GLbbzymPx"
      },
      "source": [
        "from sklearn.model_selection import train_test_split"
      ],
      "execution_count": null,
      "outputs": []
    },
    {
      "cell_type": "code",
      "metadata": {
        "id": "kNOyZ3vSymSX"
      },
      "source": [
        "X_train, X_test, y_train, y_test = train_test_split( X, y, test_size=0.30)"
      ],
      "execution_count": null,
      "outputs": []
    },
    {
      "cell_type": "code",
      "metadata": {
        "id": "-nArxMZcymU0",
        "outputId": "379560ce-02e4-4502-86d5-1bbdd839a7b7",
        "colab": {
          "base_uri": "https://localhost:8080/",
          "height": 35
        }
      },
      "source": [
        "y_test.shape"
      ],
      "execution_count": null,
      "outputs": [
        {
          "output_type": "execute_result",
          "data": {
            "text/plain": [
              "(171,)"
            ]
          },
          "metadata": {
            "tags": []
          },
          "execution_count": 22
        }
      ]
    },
    {
      "cell_type": "code",
      "metadata": {
        "id": "7oWbivGFymXm"
      },
      "source": [
        "from sklearn.preprocessing import MinMaxScaler\n",
        "scaler = MinMaxScaler()"
      ],
      "execution_count": null,
      "outputs": []
    },
    {
      "cell_type": "code",
      "metadata": {
        "id": "NYngBtODymaF"
      },
      "source": [
        "X_train = scaler.fit_transform(X_train)\n",
        "X_test = scaler.transform(X_test)"
      ],
      "execution_count": null,
      "outputs": []
    },
    {
      "cell_type": "code",
      "metadata": {
        "id": "IV_qTPEWymc3",
        "outputId": "0fb7ddc6-7754-4ea7-dec3-2809c3c454b5",
        "colab": {
          "base_uri": "https://localhost:8080/",
          "height": 121
        }
      },
      "source": [
        "X_test[13]"
      ],
      "execution_count": null,
      "outputs": [
        {
          "output_type": "execute_result",
          "data": {
            "text/plain": [
              "array([0.50486814, 0.24923909, 0.483614  , 0.3328526 , 0.37952225,\n",
              "       0.25986136, 0.29690432, 0.43664401, 0.38030303, 0.12923077,\n",
              "       0.08121536, 0.10975071, 0.07951406, 0.05010852, 0.10347758,\n",
              "       0.12269079, 0.15192182, 0.30855746, 0.0852423 , 0.06443692,\n",
              "       0.42404838, 0.34834755, 0.40086658, 0.25481715, 0.46509939,\n",
              "       0.20685741, 0.28871795, 0.63814433, 0.37372297, 0.17112685])"
            ]
          },
          "metadata": {
            "tags": []
          },
          "execution_count": 27
        }
      ]
    },
    {
      "cell_type": "code",
      "metadata": {
        "id": "WpWGYLasymft"
      },
      "source": [
        "from tensorflow.keras.models import Sequential\n",
        "from tensorflow.keras.layers import Dense"
      ],
      "execution_count": null,
      "outputs": []
    },
    {
      "cell_type": "code",
      "metadata": {
        "id": "P2LKWZDKymiz"
      },
      "source": [
        "model = Sequential()\n",
        "\n",
        "model.add(Dense(30,activation='relu'))\n",
        "model.add(Dense(15,activation='relu'))\n",
        "\n",
        "# binary classification\n",
        "model.add(Dense(1,activation='sigmoid'))\n",
        "\n",
        "model.compile(loss='binary_crossentropy',optimizer='RMSprop')"
      ],
      "execution_count": null,
      "outputs": []
    },
    {
      "cell_type": "code",
      "metadata": {
        "id": "R6bSXvKO5RYC",
        "outputId": "8ebae9b0-4e85-4cb1-ff70-e9b2703b1d38",
        "colab": {
          "base_uri": "https://localhost:8080/",
          "height": 1000
        }
      },
      "source": [
        "model.fit(X_train,y_train,epochs=400,validation_data=(X_test,y_test))"
      ],
      "execution_count": null,
      "outputs": [
        {
          "output_type": "stream",
          "text": [
            "Epoch 1/400\n",
            "13/13 [==============================] - 0s 13ms/step - loss: 0.6338 - val_loss: 0.6134\n",
            "Epoch 2/400\n",
            "13/13 [==============================] - 0s 3ms/step - loss: 0.5879 - val_loss: 0.5744\n",
            "Epoch 3/400\n",
            "13/13 [==============================] - 0s 3ms/step - loss: 0.5487 - val_loss: 0.5402\n",
            "Epoch 4/400\n",
            "13/13 [==============================] - 0s 3ms/step - loss: 0.5106 - val_loss: 0.5054\n",
            "Epoch 5/400\n",
            "13/13 [==============================] - 0s 2ms/step - loss: 0.4730 - val_loss: 0.4670\n",
            "Epoch 6/400\n",
            "13/13 [==============================] - 0s 3ms/step - loss: 0.4325 - val_loss: 0.4425\n",
            "Epoch 7/400\n",
            "13/13 [==============================] - 0s 2ms/step - loss: 0.4004 - val_loss: 0.4025\n",
            "Epoch 8/400\n",
            "13/13 [==============================] - 0s 3ms/step - loss: 0.3691 - val_loss: 0.3735\n",
            "Epoch 9/400\n",
            "13/13 [==============================] - 0s 3ms/step - loss: 0.3392 - val_loss: 0.3446\n",
            "Epoch 10/400\n",
            "13/13 [==============================] - 0s 3ms/step - loss: 0.3092 - val_loss: 0.3212\n",
            "Epoch 11/400\n",
            "13/13 [==============================] - 0s 3ms/step - loss: 0.2838 - val_loss: 0.2912\n",
            "Epoch 12/400\n",
            "13/13 [==============================] - 0s 3ms/step - loss: 0.2622 - val_loss: 0.2720\n",
            "Epoch 13/400\n",
            "13/13 [==============================] - 0s 3ms/step - loss: 0.2448 - val_loss: 0.2578\n",
            "Epoch 14/400\n",
            "13/13 [==============================] - 0s 3ms/step - loss: 0.2297 - val_loss: 0.2349\n",
            "Epoch 15/400\n",
            "13/13 [==============================] - 0s 3ms/step - loss: 0.2180 - val_loss: 0.2217\n",
            "Epoch 16/400\n",
            "13/13 [==============================] - 0s 3ms/step - loss: 0.2036 - val_loss: 0.2198\n",
            "Epoch 17/400\n",
            "13/13 [==============================] - 0s 5ms/step - loss: 0.1954 - val_loss: 0.1997\n",
            "Epoch 18/400\n",
            "13/13 [==============================] - 0s 3ms/step - loss: 0.1822 - val_loss: 0.1859\n",
            "Epoch 19/400\n",
            "13/13 [==============================] - 0s 3ms/step - loss: 0.1752 - val_loss: 0.1788\n",
            "Epoch 20/400\n",
            "13/13 [==============================] - 0s 3ms/step - loss: 0.1664 - val_loss: 0.1713\n",
            "Epoch 21/400\n",
            "13/13 [==============================] - 0s 3ms/step - loss: 0.1581 - val_loss: 0.1785\n",
            "Epoch 22/400\n",
            "13/13 [==============================] - 0s 3ms/step - loss: 0.1512 - val_loss: 0.1555\n",
            "Epoch 23/400\n",
            "13/13 [==============================] - 0s 3ms/step - loss: 0.1460 - val_loss: 0.1509\n",
            "Epoch 24/400\n",
            "13/13 [==============================] - 0s 3ms/step - loss: 0.1397 - val_loss: 0.1520\n",
            "Epoch 25/400\n",
            "13/13 [==============================] - 0s 3ms/step - loss: 0.1344 - val_loss: 0.1702\n",
            "Epoch 26/400\n",
            "13/13 [==============================] - 0s 3ms/step - loss: 0.1351 - val_loss: 0.1471\n",
            "Epoch 27/400\n",
            "13/13 [==============================] - 0s 3ms/step - loss: 0.1302 - val_loss: 0.1316\n",
            "Epoch 28/400\n",
            "13/13 [==============================] - 0s 3ms/step - loss: 0.1242 - val_loss: 0.1281\n",
            "Epoch 29/400\n",
            "13/13 [==============================] - 0s 3ms/step - loss: 0.1182 - val_loss: 0.1243\n",
            "Epoch 30/400\n",
            "13/13 [==============================] - 0s 3ms/step - loss: 0.1209 - val_loss: 0.1226\n",
            "Epoch 31/400\n",
            "13/13 [==============================] - 0s 3ms/step - loss: 0.1160 - val_loss: 0.1309\n",
            "Epoch 32/400\n",
            "13/13 [==============================] - 0s 3ms/step - loss: 0.1138 - val_loss: 0.1316\n",
            "Epoch 33/400\n",
            "13/13 [==============================] - 0s 3ms/step - loss: 0.1106 - val_loss: 0.1201\n",
            "Epoch 34/400\n",
            "13/13 [==============================] - 0s 3ms/step - loss: 0.1065 - val_loss: 0.1119\n",
            "Epoch 35/400\n",
            "13/13 [==============================] - 0s 3ms/step - loss: 0.1046 - val_loss: 0.1127\n",
            "Epoch 36/400\n",
            "13/13 [==============================] - 0s 3ms/step - loss: 0.0985 - val_loss: 0.1113\n",
            "Epoch 37/400\n",
            "13/13 [==============================] - 0s 3ms/step - loss: 0.0980 - val_loss: 0.1127\n",
            "Epoch 38/400\n",
            "13/13 [==============================] - 0s 3ms/step - loss: 0.0956 - val_loss: 0.1040\n",
            "Epoch 39/400\n",
            "13/13 [==============================] - 0s 3ms/step - loss: 0.0908 - val_loss: 0.1070\n",
            "Epoch 40/400\n",
            "13/13 [==============================] - 0s 3ms/step - loss: 0.0943 - val_loss: 0.1003\n",
            "Epoch 41/400\n",
            "13/13 [==============================] - 0s 3ms/step - loss: 0.0897 - val_loss: 0.1025\n",
            "Epoch 42/400\n",
            "13/13 [==============================] - 0s 3ms/step - loss: 0.0865 - val_loss: 0.0984\n",
            "Epoch 43/400\n",
            "13/13 [==============================] - 0s 3ms/step - loss: 0.0860 - val_loss: 0.0963\n",
            "Epoch 44/400\n",
            "13/13 [==============================] - 0s 3ms/step - loss: 0.0848 - val_loss: 0.0993\n",
            "Epoch 45/400\n",
            "13/13 [==============================] - 0s 3ms/step - loss: 0.0822 - val_loss: 0.0939\n",
            "Epoch 46/400\n",
            "13/13 [==============================] - 0s 3ms/step - loss: 0.0821 - val_loss: 0.0948\n",
            "Epoch 47/400\n",
            "13/13 [==============================] - 0s 3ms/step - loss: 0.0806 - val_loss: 0.0906\n",
            "Epoch 48/400\n",
            "13/13 [==============================] - 0s 3ms/step - loss: 0.0775 - val_loss: 0.0886\n",
            "Epoch 49/400\n",
            "13/13 [==============================] - 0s 3ms/step - loss: 0.0762 - val_loss: 0.0920\n",
            "Epoch 50/400\n",
            "13/13 [==============================] - 0s 3ms/step - loss: 0.0785 - val_loss: 0.0865\n",
            "Epoch 51/400\n",
            "13/13 [==============================] - 0s 3ms/step - loss: 0.0739 - val_loss: 0.0859\n",
            "Epoch 52/400\n",
            "13/13 [==============================] - 0s 3ms/step - loss: 0.0680 - val_loss: 0.1120\n",
            "Epoch 53/400\n",
            "13/13 [==============================] - 0s 3ms/step - loss: 0.0716 - val_loss: 0.0850\n",
            "Epoch 54/400\n",
            "13/13 [==============================] - 0s 3ms/step - loss: 0.0717 - val_loss: 0.0854\n",
            "Epoch 55/400\n",
            "13/13 [==============================] - 0s 3ms/step - loss: 0.0696 - val_loss: 0.0823\n",
            "Epoch 56/400\n",
            "13/13 [==============================] - 0s 3ms/step - loss: 0.0700 - val_loss: 0.0906\n",
            "Epoch 57/400\n",
            "13/13 [==============================] - 0s 3ms/step - loss: 0.0687 - val_loss: 0.0805\n",
            "Epoch 58/400\n",
            "13/13 [==============================] - 0s 3ms/step - loss: 0.0688 - val_loss: 0.0872\n",
            "Epoch 59/400\n",
            "13/13 [==============================] - 0s 3ms/step - loss: 0.0669 - val_loss: 0.0809\n",
            "Epoch 60/400\n",
            "13/13 [==============================] - 0s 3ms/step - loss: 0.0681 - val_loss: 0.0870\n",
            "Epoch 61/400\n",
            "13/13 [==============================] - 0s 3ms/step - loss: 0.0653 - val_loss: 0.0917\n",
            "Epoch 62/400\n",
            "13/13 [==============================] - 0s 3ms/step - loss: 0.0653 - val_loss: 0.0802\n",
            "Epoch 63/400\n",
            "13/13 [==============================] - 0s 3ms/step - loss: 0.0618 - val_loss: 0.0786\n",
            "Epoch 64/400\n",
            "13/13 [==============================] - 0s 3ms/step - loss: 0.0629 - val_loss: 0.1067\n",
            "Epoch 65/400\n",
            "13/13 [==============================] - 0s 3ms/step - loss: 0.0648 - val_loss: 0.0859\n",
            "Epoch 66/400\n",
            "13/13 [==============================] - 0s 4ms/step - loss: 0.0624 - val_loss: 0.0807\n",
            "Epoch 67/400\n",
            "13/13 [==============================] - 0s 3ms/step - loss: 0.0591 - val_loss: 0.1023\n",
            "Epoch 68/400\n",
            "13/13 [==============================] - 0s 3ms/step - loss: 0.0627 - val_loss: 0.0771\n",
            "Epoch 69/400\n",
            "13/13 [==============================] - 0s 3ms/step - loss: 0.0582 - val_loss: 0.0828\n",
            "Epoch 70/400\n",
            "13/13 [==============================] - 0s 3ms/step - loss: 0.0589 - val_loss: 0.1082\n",
            "Epoch 71/400\n",
            "13/13 [==============================] - 0s 3ms/step - loss: 0.0619 - val_loss: 0.0802\n",
            "Epoch 72/400\n",
            "13/13 [==============================] - 0s 3ms/step - loss: 0.0590 - val_loss: 0.0770\n",
            "Epoch 73/400\n",
            "13/13 [==============================] - 0s 3ms/step - loss: 0.0606 - val_loss: 0.0825\n",
            "Epoch 74/400\n",
            "13/13 [==============================] - 0s 3ms/step - loss: 0.0604 - val_loss: 0.0770\n",
            "Epoch 75/400\n",
            "13/13 [==============================] - 0s 2ms/step - loss: 0.0554 - val_loss: 0.0888\n",
            "Epoch 76/400\n",
            "13/13 [==============================] - 0s 3ms/step - loss: 0.0572 - val_loss: 0.1021\n",
            "Epoch 77/400\n",
            "13/13 [==============================] - 0s 4ms/step - loss: 0.0574 - val_loss: 0.0775\n",
            "Epoch 78/400\n",
            "13/13 [==============================] - 0s 3ms/step - loss: 0.0570 - val_loss: 0.0935\n",
            "Epoch 79/400\n",
            "13/13 [==============================] - 0s 3ms/step - loss: 0.0541 - val_loss: 0.0813\n",
            "Epoch 80/400\n",
            "13/13 [==============================] - 0s 3ms/step - loss: 0.0570 - val_loss: 0.0853\n",
            "Epoch 81/400\n",
            "13/13 [==============================] - 0s 2ms/step - loss: 0.0536 - val_loss: 0.1066\n",
            "Epoch 82/400\n",
            "13/13 [==============================] - 0s 3ms/step - loss: 0.0555 - val_loss: 0.0908\n",
            "Epoch 83/400\n",
            "13/13 [==============================] - 0s 3ms/step - loss: 0.0562 - val_loss: 0.0786\n",
            "Epoch 84/400\n",
            "13/13 [==============================] - 0s 3ms/step - loss: 0.0525 - val_loss: 0.0820\n",
            "Epoch 85/400\n",
            "13/13 [==============================] - 0s 2ms/step - loss: 0.0520 - val_loss: 0.0853\n",
            "Epoch 86/400\n",
            "13/13 [==============================] - 0s 3ms/step - loss: 0.0562 - val_loss: 0.0907\n",
            "Epoch 87/400\n",
            "13/13 [==============================] - 0s 3ms/step - loss: 0.0519 - val_loss: 0.0781\n",
            "Epoch 88/400\n",
            "13/13 [==============================] - 0s 3ms/step - loss: 0.0526 - val_loss: 0.0824\n",
            "Epoch 89/400\n",
            "13/13 [==============================] - 0s 3ms/step - loss: 0.0528 - val_loss: 0.0831\n",
            "Epoch 90/400\n",
            "13/13 [==============================] - 0s 3ms/step - loss: 0.0520 - val_loss: 0.0784\n",
            "Epoch 91/400\n",
            "13/13 [==============================] - 0s 3ms/step - loss: 0.0521 - val_loss: 0.0856\n",
            "Epoch 92/400\n",
            "13/13 [==============================] - 0s 3ms/step - loss: 0.0496 - val_loss: 0.0806\n",
            "Epoch 93/400\n",
            "13/13 [==============================] - 0s 3ms/step - loss: 0.0523 - val_loss: 0.0825\n",
            "Epoch 94/400\n",
            "13/13 [==============================] - 0s 3ms/step - loss: 0.0510 - val_loss: 0.0808\n",
            "Epoch 95/400\n",
            "13/13 [==============================] - 0s 3ms/step - loss: 0.0513 - val_loss: 0.0918\n",
            "Epoch 96/400\n",
            "13/13 [==============================] - 0s 3ms/step - loss: 0.0486 - val_loss: 0.0896\n",
            "Epoch 97/400\n",
            "13/13 [==============================] - 0s 3ms/step - loss: 0.0505 - val_loss: 0.0980\n",
            "Epoch 98/400\n",
            "13/13 [==============================] - 0s 3ms/step - loss: 0.0536 - val_loss: 0.0883\n",
            "Epoch 99/400\n",
            "13/13 [==============================] - 0s 3ms/step - loss: 0.0456 - val_loss: 0.0895\n",
            "Epoch 100/400\n",
            "13/13 [==============================] - 0s 3ms/step - loss: 0.0502 - val_loss: 0.0856\n",
            "Epoch 101/400\n",
            "13/13 [==============================] - 0s 3ms/step - loss: 0.0479 - val_loss: 0.0901\n",
            "Epoch 102/400\n",
            "13/13 [==============================] - 0s 3ms/step - loss: 0.0489 - val_loss: 0.0857\n",
            "Epoch 103/400\n",
            "13/13 [==============================] - 0s 3ms/step - loss: 0.0479 - val_loss: 0.0894\n",
            "Epoch 104/400\n",
            "13/13 [==============================] - 0s 3ms/step - loss: 0.0480 - val_loss: 0.1014\n",
            "Epoch 105/400\n",
            "13/13 [==============================] - 0s 3ms/step - loss: 0.0480 - val_loss: 0.0866\n",
            "Epoch 106/400\n",
            "13/13 [==============================] - 0s 3ms/step - loss: 0.0464 - val_loss: 0.0848\n",
            "Epoch 107/400\n",
            "13/13 [==============================] - 0s 3ms/step - loss: 0.0483 - val_loss: 0.0954\n",
            "Epoch 108/400\n",
            "13/13 [==============================] - 0s 2ms/step - loss: 0.0429 - val_loss: 0.1117\n",
            "Epoch 109/400\n",
            "13/13 [==============================] - 0s 3ms/step - loss: 0.0492 - val_loss: 0.0879\n",
            "Epoch 110/400\n",
            "13/13 [==============================] - 0s 3ms/step - loss: 0.0465 - val_loss: 0.1083\n",
            "Epoch 111/400\n",
            "13/13 [==============================] - 0s 2ms/step - loss: 0.0444 - val_loss: 0.0900\n",
            "Epoch 112/400\n",
            "13/13 [==============================] - 0s 3ms/step - loss: 0.0455 - val_loss: 0.1038\n",
            "Epoch 113/400\n",
            "13/13 [==============================] - 0s 3ms/step - loss: 0.0446 - val_loss: 0.1014\n",
            "Epoch 114/400\n",
            "13/13 [==============================] - 0s 3ms/step - loss: 0.0468 - val_loss: 0.1042\n",
            "Epoch 115/400\n",
            "13/13 [==============================] - 0s 3ms/step - loss: 0.0455 - val_loss: 0.0989\n",
            "Epoch 116/400\n",
            "13/13 [==============================] - 0s 3ms/step - loss: 0.0462 - val_loss: 0.0989\n",
            "Epoch 117/400\n",
            "13/13 [==============================] - 0s 3ms/step - loss: 0.0446 - val_loss: 0.0898\n",
            "Epoch 118/400\n",
            "13/13 [==============================] - 0s 3ms/step - loss: 0.0443 - val_loss: 0.0994\n",
            "Epoch 119/400\n",
            "13/13 [==============================] - 0s 3ms/step - loss: 0.0451 - val_loss: 0.0923\n",
            "Epoch 120/400\n",
            "13/13 [==============================] - 0s 3ms/step - loss: 0.0435 - val_loss: 0.0978\n",
            "Epoch 121/400\n",
            "13/13 [==============================] - 0s 3ms/step - loss: 0.0458 - val_loss: 0.1016\n",
            "Epoch 122/400\n",
            "13/13 [==============================] - 0s 3ms/step - loss: 0.0420 - val_loss: 0.0937\n",
            "Epoch 123/400\n",
            "13/13 [==============================] - 0s 3ms/step - loss: 0.0447 - val_loss: 0.0960\n",
            "Epoch 124/400\n",
            "13/13 [==============================] - 0s 3ms/step - loss: 0.0401 - val_loss: 0.0947\n",
            "Epoch 125/400\n",
            "13/13 [==============================] - 0s 3ms/step - loss: 0.0436 - val_loss: 0.0952\n",
            "Epoch 126/400\n",
            "13/13 [==============================] - 0s 3ms/step - loss: 0.0424 - val_loss: 0.0970\n",
            "Epoch 127/400\n",
            "13/13 [==============================] - 0s 3ms/step - loss: 0.0409 - val_loss: 0.0959\n",
            "Epoch 128/400\n",
            "13/13 [==============================] - 0s 3ms/step - loss: 0.0420 - val_loss: 0.0950\n",
            "Epoch 129/400\n",
            "13/13 [==============================] - 0s 3ms/step - loss: 0.0425 - val_loss: 0.0941\n",
            "Epoch 130/400\n",
            "13/13 [==============================] - 0s 3ms/step - loss: 0.0443 - val_loss: 0.1021\n",
            "Epoch 131/400\n",
            "13/13 [==============================] - 0s 3ms/step - loss: 0.0417 - val_loss: 0.0978\n",
            "Epoch 132/400\n",
            "13/13 [==============================] - 0s 3ms/step - loss: 0.0428 - val_loss: 0.1000\n",
            "Epoch 133/400\n",
            "13/13 [==============================] - 0s 3ms/step - loss: 0.0410 - val_loss: 0.0955\n",
            "Epoch 134/400\n",
            "13/13 [==============================] - 0s 3ms/step - loss: 0.0405 - val_loss: 0.0966\n",
            "Epoch 135/400\n",
            "13/13 [==============================] - 0s 3ms/step - loss: 0.0403 - val_loss: 0.0976\n",
            "Epoch 136/400\n",
            "13/13 [==============================] - 0s 3ms/step - loss: 0.0411 - val_loss: 0.0985\n",
            "Epoch 137/400\n",
            "13/13 [==============================] - 0s 3ms/step - loss: 0.0415 - val_loss: 0.1036\n",
            "Epoch 138/400\n",
            "13/13 [==============================] - 0s 3ms/step - loss: 0.0438 - val_loss: 0.0988\n",
            "Epoch 139/400\n",
            "13/13 [==============================] - 0s 3ms/step - loss: 0.0404 - val_loss: 0.1027\n",
            "Epoch 140/400\n",
            "13/13 [==============================] - 0s 3ms/step - loss: 0.0413 - val_loss: 0.1051\n",
            "Epoch 141/400\n",
            "13/13 [==============================] - 0s 3ms/step - loss: 0.0397 - val_loss: 0.1035\n",
            "Epoch 142/400\n",
            "13/13 [==============================] - 0s 3ms/step - loss: 0.0421 - val_loss: 0.1026\n",
            "Epoch 143/400\n",
            "13/13 [==============================] - 0s 3ms/step - loss: 0.0406 - val_loss: 0.1018\n",
            "Epoch 144/400\n",
            "13/13 [==============================] - 0s 3ms/step - loss: 0.0406 - val_loss: 0.1061\n",
            "Epoch 145/400\n",
            "13/13 [==============================] - 0s 3ms/step - loss: 0.0394 - val_loss: 0.1042\n",
            "Epoch 146/400\n",
            "13/13 [==============================] - 0s 3ms/step - loss: 0.0404 - val_loss: 0.1018\n",
            "Epoch 147/400\n",
            "13/13 [==============================] - 0s 3ms/step - loss: 0.0399 - val_loss: 0.1048\n",
            "Epoch 148/400\n",
            "13/13 [==============================] - 0s 3ms/step - loss: 0.0401 - val_loss: 0.1027\n",
            "Epoch 149/400\n",
            "13/13 [==============================] - 0s 2ms/step - loss: 0.0409 - val_loss: 0.1168\n",
            "Epoch 150/400\n",
            "13/13 [==============================] - 0s 2ms/step - loss: 0.0392 - val_loss: 0.1183\n",
            "Epoch 151/400\n",
            "13/13 [==============================] - 0s 3ms/step - loss: 0.0382 - val_loss: 0.1022\n",
            "Epoch 152/400\n",
            "13/13 [==============================] - 0s 2ms/step - loss: 0.0360 - val_loss: 0.1215\n",
            "Epoch 153/400\n",
            "13/13 [==============================] - 0s 2ms/step - loss: 0.0394 - val_loss: 0.1082\n",
            "Epoch 154/400\n",
            "13/13 [==============================] - 0s 3ms/step - loss: 0.0384 - val_loss: 0.1077\n",
            "Epoch 155/400\n",
            "13/13 [==============================] - 0s 3ms/step - loss: 0.0402 - val_loss: 0.1103\n",
            "Epoch 156/400\n",
            "13/13 [==============================] - 0s 3ms/step - loss: 0.0369 - val_loss: 0.1067\n",
            "Epoch 157/400\n",
            "13/13 [==============================] - 0s 2ms/step - loss: 0.0365 - val_loss: 0.1125\n",
            "Epoch 158/400\n",
            "13/13 [==============================] - 0s 2ms/step - loss: 0.0362 - val_loss: 0.1102\n",
            "Epoch 159/400\n",
            "13/13 [==============================] - 0s 2ms/step - loss: 0.0387 - val_loss: 0.1116\n",
            "Epoch 160/400\n",
            "13/13 [==============================] - 0s 2ms/step - loss: 0.0330 - val_loss: 0.1158\n",
            "Epoch 161/400\n",
            "13/13 [==============================] - 0s 2ms/step - loss: 0.0372 - val_loss: 0.1080\n",
            "Epoch 162/400\n",
            "13/13 [==============================] - 0s 2ms/step - loss: 0.0392 - val_loss: 0.1099\n",
            "Epoch 163/400\n",
            "13/13 [==============================] - 0s 2ms/step - loss: 0.0353 - val_loss: 0.1094\n",
            "Epoch 164/400\n",
            "13/13 [==============================] - 0s 2ms/step - loss: 0.0362 - val_loss: 0.1103\n",
            "Epoch 165/400\n",
            "13/13 [==============================] - 0s 3ms/step - loss: 0.0356 - val_loss: 0.1166\n",
            "Epoch 166/400\n",
            "13/13 [==============================] - 0s 2ms/step - loss: 0.0391 - val_loss: 0.1112\n",
            "Epoch 167/400\n",
            "13/13 [==============================] - 0s 3ms/step - loss: 0.0353 - val_loss: 0.1119\n",
            "Epoch 168/400\n",
            "13/13 [==============================] - 0s 3ms/step - loss: 0.0374 - val_loss: 0.1243\n",
            "Epoch 169/400\n",
            "13/13 [==============================] - 0s 2ms/step - loss: 0.0343 - val_loss: 0.1117\n",
            "Epoch 170/400\n",
            "13/13 [==============================] - 0s 2ms/step - loss: 0.0350 - val_loss: 0.1155\n",
            "Epoch 171/400\n",
            "13/13 [==============================] - 0s 2ms/step - loss: 0.0387 - val_loss: 0.1135\n",
            "Epoch 172/400\n",
            "13/13 [==============================] - 0s 2ms/step - loss: 0.0368 - val_loss: 0.1126\n",
            "Epoch 173/400\n",
            "13/13 [==============================] - 0s 2ms/step - loss: 0.0319 - val_loss: 0.1268\n",
            "Epoch 174/400\n",
            "13/13 [==============================] - 0s 3ms/step - loss: 0.0350 - val_loss: 0.1156\n",
            "Epoch 175/400\n",
            "13/13 [==============================] - 0s 2ms/step - loss: 0.0384 - val_loss: 0.1204\n",
            "Epoch 176/400\n",
            "13/13 [==============================] - 0s 3ms/step - loss: 0.0336 - val_loss: 0.1202\n",
            "Epoch 177/400\n",
            "13/13 [==============================] - 0s 2ms/step - loss: 0.0358 - val_loss: 0.1158\n",
            "Epoch 178/400\n",
            "13/13 [==============================] - 0s 2ms/step - loss: 0.0337 - val_loss: 0.1168\n",
            "Epoch 179/400\n",
            "13/13 [==============================] - 0s 2ms/step - loss: 0.0366 - val_loss: 0.1175\n",
            "Epoch 180/400\n",
            "13/13 [==============================] - 0s 2ms/step - loss: 0.0348 - val_loss: 0.1277\n",
            "Epoch 181/400\n",
            "13/13 [==============================] - 0s 3ms/step - loss: 0.0337 - val_loss: 0.1188\n",
            "Epoch 182/400\n",
            "13/13 [==============================] - 0s 3ms/step - loss: 0.0345 - val_loss: 0.1261\n",
            "Epoch 183/400\n",
            "13/13 [==============================] - 0s 3ms/step - loss: 0.0345 - val_loss: 0.1185\n",
            "Epoch 184/400\n",
            "13/13 [==============================] - 0s 3ms/step - loss: 0.0328 - val_loss: 0.1177\n",
            "Epoch 185/400\n",
            "13/13 [==============================] - 0s 3ms/step - loss: 0.0319 - val_loss: 0.1234\n",
            "Epoch 186/400\n",
            "13/13 [==============================] - 0s 2ms/step - loss: 0.0327 - val_loss: 0.1186\n",
            "Epoch 187/400\n",
            "13/13 [==============================] - 0s 3ms/step - loss: 0.0308 - val_loss: 0.1337\n",
            "Epoch 188/400\n",
            "13/13 [==============================] - 0s 3ms/step - loss: 0.0340 - val_loss: 0.1258\n",
            "Epoch 189/400\n",
            "13/13 [==============================] - 0s 3ms/step - loss: 0.0315 - val_loss: 0.1197\n",
            "Epoch 190/400\n",
            "13/13 [==============================] - 0s 3ms/step - loss: 0.0338 - val_loss: 0.1185\n",
            "Epoch 191/400\n",
            "13/13 [==============================] - 0s 3ms/step - loss: 0.0327 - val_loss: 0.1316\n",
            "Epoch 192/400\n",
            "13/13 [==============================] - 0s 3ms/step - loss: 0.0312 - val_loss: 0.1267\n",
            "Epoch 193/400\n",
            "13/13 [==============================] - 0s 3ms/step - loss: 0.0349 - val_loss: 0.1206\n",
            "Epoch 194/400\n",
            "13/13 [==============================] - 0s 3ms/step - loss: 0.0299 - val_loss: 0.1322\n",
            "Epoch 195/400\n",
            "13/13 [==============================] - 0s 2ms/step - loss: 0.0318 - val_loss: 0.1221\n",
            "Epoch 196/400\n",
            "13/13 [==============================] - 0s 3ms/step - loss: 0.0297 - val_loss: 0.1304\n",
            "Epoch 197/400\n",
            "13/13 [==============================] - 0s 3ms/step - loss: 0.0342 - val_loss: 0.1236\n",
            "Epoch 198/400\n",
            "13/13 [==============================] - 0s 2ms/step - loss: 0.0307 - val_loss: 0.1244\n",
            "Epoch 199/400\n",
            "13/13 [==============================] - 0s 3ms/step - loss: 0.0338 - val_loss: 0.1241\n",
            "Epoch 200/400\n",
            "13/13 [==============================] - 0s 3ms/step - loss: 0.0339 - val_loss: 0.1234\n",
            "Epoch 201/400\n",
            "13/13 [==============================] - 0s 2ms/step - loss: 0.0314 - val_loss: 0.1275\n",
            "Epoch 202/400\n",
            "13/13 [==============================] - 0s 3ms/step - loss: 0.0314 - val_loss: 0.1276\n",
            "Epoch 203/400\n",
            "13/13 [==============================] - 0s 3ms/step - loss: 0.0295 - val_loss: 0.1288\n",
            "Epoch 204/400\n",
            "13/13 [==============================] - 0s 2ms/step - loss: 0.0321 - val_loss: 0.1253\n",
            "Epoch 205/400\n",
            "13/13 [==============================] - 0s 2ms/step - loss: 0.0309 - val_loss: 0.1344\n",
            "Epoch 206/400\n",
            "13/13 [==============================] - 0s 2ms/step - loss: 0.0313 - val_loss: 0.1299\n",
            "Epoch 207/400\n",
            "13/13 [==============================] - 0s 2ms/step - loss: 0.0285 - val_loss: 0.1285\n",
            "Epoch 208/400\n",
            "13/13 [==============================] - 0s 2ms/step - loss: 0.0293 - val_loss: 0.1276\n",
            "Epoch 209/400\n",
            "13/13 [==============================] - 0s 3ms/step - loss: 0.0329 - val_loss: 0.1256\n",
            "Epoch 210/400\n",
            "13/13 [==============================] - 0s 3ms/step - loss: 0.0282 - val_loss: 0.1475\n",
            "Epoch 211/400\n",
            "13/13 [==============================] - 0s 2ms/step - loss: 0.0346 - val_loss: 0.1407\n",
            "Epoch 212/400\n",
            "13/13 [==============================] - 0s 2ms/step - loss: 0.0291 - val_loss: 0.1320\n",
            "Epoch 213/400\n",
            "13/13 [==============================] - 0s 3ms/step - loss: 0.0306 - val_loss: 0.1380\n",
            "Epoch 214/400\n",
            "13/13 [==============================] - 0s 2ms/step - loss: 0.0309 - val_loss: 0.1463\n",
            "Epoch 215/400\n",
            "13/13 [==============================] - 0s 2ms/step - loss: 0.0324 - val_loss: 0.1350\n",
            "Epoch 216/400\n",
            "13/13 [==============================] - 0s 3ms/step - loss: 0.0275 - val_loss: 0.1340\n",
            "Epoch 217/400\n",
            "13/13 [==============================] - 0s 2ms/step - loss: 0.0269 - val_loss: 0.1323\n",
            "Epoch 218/400\n",
            "13/13 [==============================] - 0s 3ms/step - loss: 0.0275 - val_loss: 0.1396\n",
            "Epoch 219/400\n",
            "13/13 [==============================] - 0s 2ms/step - loss: 0.0272 - val_loss: 0.1442\n",
            "Epoch 220/400\n",
            "13/13 [==============================] - 0s 3ms/step - loss: 0.0237 - val_loss: 0.1297\n",
            "Epoch 221/400\n",
            "13/13 [==============================] - 0s 2ms/step - loss: 0.0288 - val_loss: 0.1305\n",
            "Epoch 222/400\n",
            "13/13 [==============================] - 0s 2ms/step - loss: 0.0313 - val_loss: 0.1326\n",
            "Epoch 223/400\n",
            "13/13 [==============================] - 0s 3ms/step - loss: 0.0279 - val_loss: 0.1394\n",
            "Epoch 224/400\n",
            "13/13 [==============================] - 0s 3ms/step - loss: 0.0276 - val_loss: 0.1428\n",
            "Epoch 225/400\n",
            "13/13 [==============================] - 0s 3ms/step - loss: 0.0256 - val_loss: 0.1375\n",
            "Epoch 226/400\n",
            "13/13 [==============================] - 0s 3ms/step - loss: 0.0308 - val_loss: 0.1411\n",
            "Epoch 227/400\n",
            "13/13 [==============================] - 0s 3ms/step - loss: 0.0289 - val_loss: 0.1362\n",
            "Epoch 228/400\n",
            "13/13 [==============================] - 0s 2ms/step - loss: 0.0286 - val_loss: 0.1340\n",
            "Epoch 229/400\n",
            "13/13 [==============================] - 0s 2ms/step - loss: 0.0263 - val_loss: 0.1572\n",
            "Epoch 230/400\n",
            "13/13 [==============================] - 0s 3ms/step - loss: 0.0313 - val_loss: 0.1331\n",
            "Epoch 231/400\n",
            "13/13 [==============================] - 0s 2ms/step - loss: 0.0268 - val_loss: 0.1344\n",
            "Epoch 232/400\n",
            "13/13 [==============================] - 0s 3ms/step - loss: 0.0277 - val_loss: 0.1374\n",
            "Epoch 233/400\n",
            "13/13 [==============================] - 0s 2ms/step - loss: 0.0288 - val_loss: 0.1377\n",
            "Epoch 234/400\n",
            "13/13 [==============================] - 0s 2ms/step - loss: 0.0253 - val_loss: 0.1389\n",
            "Epoch 235/400\n",
            "13/13 [==============================] - 0s 2ms/step - loss: 0.0262 - val_loss: 0.1518\n",
            "Epoch 236/400\n",
            "13/13 [==============================] - 0s 2ms/step - loss: 0.0261 - val_loss: 0.1370\n",
            "Epoch 237/400\n",
            "13/13 [==============================] - 0s 2ms/step - loss: 0.0244 - val_loss: 0.1443\n",
            "Epoch 238/400\n",
            "13/13 [==============================] - 0s 2ms/step - loss: 0.0260 - val_loss: 0.1386\n",
            "Epoch 239/400\n",
            "13/13 [==============================] - 0s 2ms/step - loss: 0.0249 - val_loss: 0.1427\n",
            "Epoch 240/400\n",
            "13/13 [==============================] - 0s 2ms/step - loss: 0.0289 - val_loss: 0.1423\n",
            "Epoch 241/400\n",
            "13/13 [==============================] - 0s 2ms/step - loss: 0.0267 - val_loss: 0.1413\n",
            "Epoch 242/400\n",
            "13/13 [==============================] - 0s 2ms/step - loss: 0.0239 - val_loss: 0.1409\n",
            "Epoch 243/400\n",
            "13/13 [==============================] - 0s 3ms/step - loss: 0.0256 - val_loss: 0.1410\n",
            "Epoch 244/400\n",
            "13/13 [==============================] - 0s 2ms/step - loss: 0.0232 - val_loss: 0.1408\n",
            "Epoch 245/400\n",
            "13/13 [==============================] - 0s 3ms/step - loss: 0.0266 - val_loss: 0.1477\n",
            "Epoch 246/400\n",
            "13/13 [==============================] - 0s 2ms/step - loss: 0.0246 - val_loss: 0.1728\n",
            "Epoch 247/400\n",
            "13/13 [==============================] - 0s 3ms/step - loss: 0.0272 - val_loss: 0.1437\n",
            "Epoch 248/400\n",
            "13/13 [==============================] - 0s 2ms/step - loss: 0.0239 - val_loss: 0.1462\n",
            "Epoch 249/400\n",
            "13/13 [==============================] - 0s 2ms/step - loss: 0.0217 - val_loss: 0.1441\n",
            "Epoch 250/400\n",
            "13/13 [==============================] - 0s 3ms/step - loss: 0.0274 - val_loss: 0.1453\n",
            "Epoch 251/400\n",
            "13/13 [==============================] - 0s 2ms/step - loss: 0.0224 - val_loss: 0.1569\n",
            "Epoch 252/400\n",
            "13/13 [==============================] - 0s 3ms/step - loss: 0.0247 - val_loss: 0.1443\n",
            "Epoch 253/400\n",
            "13/13 [==============================] - 0s 2ms/step - loss: 0.0247 - val_loss: 0.1515\n",
            "Epoch 254/400\n",
            "13/13 [==============================] - 0s 2ms/step - loss: 0.0276 - val_loss: 0.1450\n",
            "Epoch 255/400\n",
            "13/13 [==============================] - 0s 2ms/step - loss: 0.0266 - val_loss: 0.1535\n",
            "Epoch 256/400\n",
            "13/13 [==============================] - 0s 2ms/step - loss: 0.0245 - val_loss: 0.1462\n",
            "Epoch 257/400\n",
            "13/13 [==============================] - 0s 3ms/step - loss: 0.0240 - val_loss: 0.1521\n",
            "Epoch 258/400\n",
            "13/13 [==============================] - 0s 3ms/step - loss: 0.0214 - val_loss: 0.1496\n",
            "Epoch 259/400\n",
            "13/13 [==============================] - 0s 3ms/step - loss: 0.0251 - val_loss: 0.1513\n",
            "Epoch 260/400\n",
            "13/13 [==============================] - 0s 3ms/step - loss: 0.0220 - val_loss: 0.1495\n",
            "Epoch 261/400\n",
            "13/13 [==============================] - 0s 3ms/step - loss: 0.0228 - val_loss: 0.1564\n",
            "Epoch 262/400\n",
            "13/13 [==============================] - 0s 3ms/step - loss: 0.0235 - val_loss: 0.1604\n",
            "Epoch 263/400\n",
            "13/13 [==============================] - 0s 3ms/step - loss: 0.0229 - val_loss: 0.1511\n",
            "Epoch 264/400\n",
            "13/13 [==============================] - 0s 3ms/step - loss: 0.0222 - val_loss: 0.1458\n",
            "Epoch 265/400\n",
            "13/13 [==============================] - 0s 3ms/step - loss: 0.0243 - val_loss: 0.1540\n",
            "Epoch 266/400\n",
            "13/13 [==============================] - 0s 3ms/step - loss: 0.0222 - val_loss: 0.1542\n",
            "Epoch 267/400\n",
            "13/13 [==============================] - 0s 3ms/step - loss: 0.0222 - val_loss: 0.1530\n",
            "Epoch 268/400\n",
            "13/13 [==============================] - 0s 3ms/step - loss: 0.0231 - val_loss: 0.1502\n",
            "Epoch 269/400\n",
            "13/13 [==============================] - 0s 3ms/step - loss: 0.0211 - val_loss: 0.1674\n",
            "Epoch 270/400\n",
            "13/13 [==============================] - 0s 3ms/step - loss: 0.0202 - val_loss: 0.1576\n",
            "Epoch 271/400\n",
            "13/13 [==============================] - 0s 2ms/step - loss: 0.0229 - val_loss: 0.1511\n",
            "Epoch 272/400\n",
            "13/13 [==============================] - 0s 3ms/step - loss: 0.0223 - val_loss: 0.1648\n",
            "Epoch 273/400\n",
            "13/13 [==============================] - 0s 2ms/step - loss: 0.0227 - val_loss: 0.1607\n",
            "Epoch 274/400\n",
            "13/13 [==============================] - 0s 3ms/step - loss: 0.0229 - val_loss: 0.1496\n",
            "Epoch 275/400\n",
            "13/13 [==============================] - 0s 4ms/step - loss: 0.0218 - val_loss: 0.1573\n",
            "Epoch 276/400\n",
            "13/13 [==============================] - 0s 2ms/step - loss: 0.0219 - val_loss: 0.1531\n",
            "Epoch 277/400\n",
            "13/13 [==============================] - 0s 3ms/step - loss: 0.0204 - val_loss: 0.1520\n",
            "Epoch 278/400\n",
            "13/13 [==============================] - 0s 2ms/step - loss: 0.0255 - val_loss: 0.1519\n",
            "Epoch 279/400\n",
            "13/13 [==============================] - 0s 2ms/step - loss: 0.0207 - val_loss: 0.1489\n",
            "Epoch 280/400\n",
            "13/13 [==============================] - 0s 3ms/step - loss: 0.0227 - val_loss: 0.1517\n",
            "Epoch 281/400\n",
            "13/13 [==============================] - 0s 3ms/step - loss: 0.0191 - val_loss: 0.1533\n",
            "Epoch 282/400\n",
            "13/13 [==============================] - 0s 3ms/step - loss: 0.0187 - val_loss: 0.1568\n",
            "Epoch 283/400\n",
            "13/13 [==============================] - 0s 3ms/step - loss: 0.0228 - val_loss: 0.1509\n",
            "Epoch 284/400\n",
            "13/13 [==============================] - 0s 3ms/step - loss: 0.0212 - val_loss: 0.1756\n",
            "Epoch 285/400\n",
            "13/13 [==============================] - 0s 3ms/step - loss: 0.0208 - val_loss: 0.1594\n",
            "Epoch 286/400\n",
            "13/13 [==============================] - 0s 3ms/step - loss: 0.0202 - val_loss: 0.1668\n",
            "Epoch 287/400\n",
            "13/13 [==============================] - 0s 3ms/step - loss: 0.0233 - val_loss: 0.1547\n",
            "Epoch 288/400\n",
            "13/13 [==============================] - 0s 3ms/step - loss: 0.0178 - val_loss: 0.1675\n",
            "Epoch 289/400\n",
            "13/13 [==============================] - 0s 3ms/step - loss: 0.0171 - val_loss: 0.1624\n",
            "Epoch 290/400\n",
            "13/13 [==============================] - 0s 3ms/step - loss: 0.0180 - val_loss: 0.1573\n",
            "Epoch 291/400\n",
            "13/13 [==============================] - 0s 3ms/step - loss: 0.0183 - val_loss: 0.1602\n",
            "Epoch 292/400\n",
            "13/13 [==============================] - 0s 2ms/step - loss: 0.0190 - val_loss: 0.1604\n",
            "Epoch 293/400\n",
            "13/13 [==============================] - 0s 3ms/step - loss: 0.0197 - val_loss: 0.1690\n",
            "Epoch 294/400\n",
            "13/13 [==============================] - 0s 3ms/step - loss: 0.0202 - val_loss: 0.1575\n",
            "Epoch 295/400\n",
            "13/13 [==============================] - 0s 3ms/step - loss: 0.0183 - val_loss: 0.1638\n",
            "Epoch 296/400\n",
            "13/13 [==============================] - 0s 3ms/step - loss: 0.0209 - val_loss: 0.1559\n",
            "Epoch 297/400\n",
            "13/13 [==============================] - 0s 2ms/step - loss: 0.0194 - val_loss: 0.1735\n",
            "Epoch 298/400\n",
            "13/13 [==============================] - 0s 3ms/step - loss: 0.0205 - val_loss: 0.1618\n",
            "Epoch 299/400\n",
            "13/13 [==============================] - 0s 2ms/step - loss: 0.0205 - val_loss: 0.1634\n",
            "Epoch 300/400\n",
            "13/13 [==============================] - 0s 2ms/step - loss: 0.0193 - val_loss: 0.1627\n",
            "Epoch 301/400\n",
            "13/13 [==============================] - 0s 2ms/step - loss: 0.0185 - val_loss: 0.1722\n",
            "Epoch 302/400\n",
            "13/13 [==============================] - 0s 3ms/step - loss: 0.0174 - val_loss: 0.1917\n",
            "Epoch 303/400\n",
            "13/13 [==============================] - 0s 2ms/step - loss: 0.0171 - val_loss: 0.1640\n",
            "Epoch 304/400\n",
            "13/13 [==============================] - 0s 2ms/step - loss: 0.0189 - val_loss: 0.1652\n",
            "Epoch 305/400\n",
            "13/13 [==============================] - 0s 2ms/step - loss: 0.0178 - val_loss: 0.1656\n",
            "Epoch 306/400\n",
            "13/13 [==============================] - 0s 2ms/step - loss: 0.0187 - val_loss: 0.1953\n",
            "Epoch 307/400\n",
            "13/13 [==============================] - 0s 2ms/step - loss: 0.0199 - val_loss: 0.1798\n",
            "Epoch 308/400\n",
            "13/13 [==============================] - 0s 2ms/step - loss: 0.0170 - val_loss: 0.1748\n",
            "Epoch 309/400\n",
            "13/13 [==============================] - 0s 3ms/step - loss: 0.0197 - val_loss: 0.1680\n",
            "Epoch 310/400\n",
            "13/13 [==============================] - 0s 3ms/step - loss: 0.0180 - val_loss: 0.1687\n",
            "Epoch 311/400\n",
            "13/13 [==============================] - 0s 2ms/step - loss: 0.0194 - val_loss: 0.1699\n",
            "Epoch 312/400\n",
            "13/13 [==============================] - 0s 3ms/step - loss: 0.0190 - val_loss: 0.1765\n",
            "Epoch 313/400\n",
            "13/13 [==============================] - 0s 2ms/step - loss: 0.0171 - val_loss: 0.1694\n",
            "Epoch 314/400\n",
            "13/13 [==============================] - 0s 2ms/step - loss: 0.0163 - val_loss: 0.1741\n",
            "Epoch 315/400\n",
            "13/13 [==============================] - 0s 2ms/step - loss: 0.0181 - val_loss: 0.1823\n",
            "Epoch 316/400\n",
            "13/13 [==============================] - 0s 2ms/step - loss: 0.0155 - val_loss: 0.1709\n",
            "Epoch 317/400\n",
            "13/13 [==============================] - 0s 3ms/step - loss: 0.0204 - val_loss: 0.1875\n",
            "Epoch 318/400\n",
            "13/13 [==============================] - 0s 3ms/step - loss: 0.0166 - val_loss: 0.1769\n",
            "Epoch 319/400\n",
            "13/13 [==============================] - 0s 3ms/step - loss: 0.0164 - val_loss: 0.1751\n",
            "Epoch 320/400\n",
            "13/13 [==============================] - 0s 2ms/step - loss: 0.0166 - val_loss: 0.1735\n",
            "Epoch 321/400\n",
            "13/13 [==============================] - 0s 3ms/step - loss: 0.0177 - val_loss: 0.1712\n",
            "Epoch 322/400\n",
            "13/13 [==============================] - 0s 3ms/step - loss: 0.0142 - val_loss: 0.1677\n",
            "Epoch 323/400\n",
            "13/13 [==============================] - 0s 3ms/step - loss: 0.0208 - val_loss: 0.1677\n",
            "Epoch 324/400\n",
            "13/13 [==============================] - 0s 3ms/step - loss: 0.0161 - val_loss: 0.1677\n",
            "Epoch 325/400\n",
            "13/13 [==============================] - 0s 3ms/step - loss: 0.0156 - val_loss: 0.1714\n",
            "Epoch 326/400\n",
            "13/13 [==============================] - 0s 3ms/step - loss: 0.0155 - val_loss: 0.1719\n",
            "Epoch 327/400\n",
            "13/13 [==============================] - 0s 2ms/step - loss: 0.0147 - val_loss: 0.2247\n",
            "Epoch 328/400\n",
            "13/13 [==============================] - 0s 3ms/step - loss: 0.0193 - val_loss: 0.1787\n",
            "Epoch 329/400\n",
            "13/13 [==============================] - 0s 2ms/step - loss: 0.0169 - val_loss: 0.1751\n",
            "Epoch 330/400\n",
            "13/13 [==============================] - 0s 2ms/step - loss: 0.0196 - val_loss: 0.1880\n",
            "Epoch 331/400\n",
            "13/13 [==============================] - 0s 2ms/step - loss: 0.0176 - val_loss: 0.1755\n",
            "Epoch 332/400\n",
            "13/13 [==============================] - 0s 2ms/step - loss: 0.0134 - val_loss: 0.1902\n",
            "Epoch 333/400\n",
            "13/13 [==============================] - 0s 3ms/step - loss: 0.0141 - val_loss: 0.1901\n",
            "Epoch 334/400\n",
            "13/13 [==============================] - 0s 2ms/step - loss: 0.0136 - val_loss: 0.1771\n",
            "Epoch 335/400\n",
            "13/13 [==============================] - 0s 2ms/step - loss: 0.0150 - val_loss: 0.1867\n",
            "Epoch 336/400\n",
            "13/13 [==============================] - 0s 2ms/step - loss: 0.0204 - val_loss: 0.1733\n",
            "Epoch 337/400\n",
            "13/13 [==============================] - 0s 2ms/step - loss: 0.0139 - val_loss: 0.1849\n",
            "Epoch 338/400\n",
            "13/13 [==============================] - 0s 2ms/step - loss: 0.0172 - val_loss: 0.1763\n",
            "Epoch 339/400\n",
            "13/13 [==============================] - 0s 2ms/step - loss: 0.0137 - val_loss: 0.1886\n",
            "Epoch 340/400\n",
            "13/13 [==============================] - 0s 2ms/step - loss: 0.0123 - val_loss: 0.2301\n",
            "Epoch 341/400\n",
            "13/13 [==============================] - 0s 2ms/step - loss: 0.0175 - val_loss: 0.1768\n",
            "Epoch 342/400\n",
            "13/13 [==============================] - 0s 3ms/step - loss: 0.0138 - val_loss: 0.1808\n",
            "Epoch 343/400\n",
            "13/13 [==============================] - 0s 2ms/step - loss: 0.0125 - val_loss: 0.1844\n",
            "Epoch 344/400\n",
            "13/13 [==============================] - 0s 2ms/step - loss: 0.0146 - val_loss: 0.1952\n",
            "Epoch 345/400\n",
            "13/13 [==============================] - 0s 2ms/step - loss: 0.0148 - val_loss: 0.1821\n",
            "Epoch 346/400\n",
            "13/13 [==============================] - 0s 2ms/step - loss: 0.0170 - val_loss: 0.2061\n",
            "Epoch 347/400\n",
            "13/13 [==============================] - 0s 3ms/step - loss: 0.0152 - val_loss: 0.2324\n",
            "Epoch 348/400\n",
            "13/13 [==============================] - 0s 3ms/step - loss: 0.0130 - val_loss: 0.2175\n",
            "Epoch 349/400\n",
            "13/13 [==============================] - 0s 2ms/step - loss: 0.0155 - val_loss: 0.1905\n",
            "Epoch 350/400\n",
            "13/13 [==============================] - 0s 3ms/step - loss: 0.0139 - val_loss: 0.2220\n",
            "Epoch 351/400\n",
            "13/13 [==============================] - 0s 2ms/step - loss: 0.0171 - val_loss: 0.1953\n",
            "Epoch 352/400\n",
            "13/13 [==============================] - 0s 2ms/step - loss: 0.0127 - val_loss: 0.2280\n",
            "Epoch 353/400\n",
            "13/13 [==============================] - 0s 3ms/step - loss: 0.0164 - val_loss: 0.2518\n",
            "Epoch 354/400\n",
            "13/13 [==============================] - 0s 3ms/step - loss: 0.0146 - val_loss: 0.1954\n",
            "Epoch 355/400\n",
            "13/13 [==============================] - 0s 2ms/step - loss: 0.0184 - val_loss: 0.1955\n",
            "Epoch 356/400\n",
            "13/13 [==============================] - 0s 2ms/step - loss: 0.0146 - val_loss: 0.1963\n",
            "Epoch 357/400\n",
            "13/13 [==============================] - 0s 2ms/step - loss: 0.0138 - val_loss: 0.1938\n",
            "Epoch 358/400\n",
            "13/13 [==============================] - 0s 2ms/step - loss: 0.0135 - val_loss: 0.2100\n",
            "Epoch 359/400\n",
            "13/13 [==============================] - 0s 3ms/step - loss: 0.0138 - val_loss: 0.2021\n",
            "Epoch 360/400\n",
            "13/13 [==============================] - 0s 2ms/step - loss: 0.0121 - val_loss: 0.2069\n",
            "Epoch 361/400\n",
            "13/13 [==============================] - 0s 2ms/step - loss: 0.0157 - val_loss: 0.1947\n",
            "Epoch 362/400\n",
            "13/13 [==============================] - 0s 2ms/step - loss: 0.0137 - val_loss: 0.1957\n",
            "Epoch 363/400\n",
            "13/13 [==============================] - 0s 2ms/step - loss: 0.0166 - val_loss: 0.1956\n",
            "Epoch 364/400\n",
            "13/13 [==============================] - 0s 2ms/step - loss: 0.0139 - val_loss: 0.1946\n",
            "Epoch 365/400\n",
            "13/13 [==============================] - 0s 2ms/step - loss: 0.0129 - val_loss: 0.1968\n",
            "Epoch 366/400\n",
            "13/13 [==============================] - 0s 2ms/step - loss: 0.0133 - val_loss: 0.1980\n",
            "Epoch 367/400\n",
            "13/13 [==============================] - 0s 2ms/step - loss: 0.0137 - val_loss: 0.2206\n",
            "Epoch 368/400\n",
            "13/13 [==============================] - 0s 3ms/step - loss: 0.0156 - val_loss: 0.1974\n",
            "Epoch 369/400\n",
            "13/13 [==============================] - 0s 3ms/step - loss: 0.0132 - val_loss: 0.2087\n",
            "Epoch 370/400\n",
            "13/13 [==============================] - 0s 2ms/step - loss: 0.0114 - val_loss: 0.2142\n",
            "Epoch 371/400\n",
            "13/13 [==============================] - 0s 2ms/step - loss: 0.0126 - val_loss: 0.2011\n",
            "Epoch 372/400\n",
            "13/13 [==============================] - 0s 2ms/step - loss: 0.0145 - val_loss: 0.1995\n",
            "Epoch 373/400\n",
            "13/13 [==============================] - 0s 2ms/step - loss: 0.0127 - val_loss: 0.2249\n",
            "Epoch 374/400\n",
            "13/13 [==============================] - 0s 2ms/step - loss: 0.0138 - val_loss: 0.2007\n",
            "Epoch 375/400\n",
            "13/13 [==============================] - 0s 3ms/step - loss: 0.0129 - val_loss: 0.2042\n",
            "Epoch 376/400\n",
            "13/13 [==============================] - 0s 2ms/step - loss: 0.0130 - val_loss: 0.2288\n",
            "Epoch 377/400\n",
            "13/13 [==============================] - 0s 2ms/step - loss: 0.0133 - val_loss: 0.2072\n",
            "Epoch 378/400\n",
            "13/13 [==============================] - 0s 2ms/step - loss: 0.0121 - val_loss: 0.2401\n",
            "Epoch 379/400\n",
            "13/13 [==============================] - 0s 2ms/step - loss: 0.0158 - val_loss: 0.2225\n",
            "Epoch 380/400\n",
            "13/13 [==============================] - 0s 3ms/step - loss: 0.0140 - val_loss: 0.2151\n",
            "Epoch 381/400\n",
            "13/13 [==============================] - 0s 2ms/step - loss: 0.0097 - val_loss: 0.2083\n",
            "Epoch 382/400\n",
            "13/13 [==============================] - 0s 2ms/step - loss: 0.0118 - val_loss: 0.2057\n",
            "Epoch 383/400\n",
            "13/13 [==============================] - 0s 2ms/step - loss: 0.0155 - val_loss: 0.2190\n",
            "Epoch 384/400\n",
            "13/13 [==============================] - 0s 3ms/step - loss: 0.0112 - val_loss: 0.2104\n",
            "Epoch 385/400\n",
            "13/13 [==============================] - 0s 2ms/step - loss: 0.0112 - val_loss: 0.2217\n",
            "Epoch 386/400\n",
            "13/13 [==============================] - 0s 2ms/step - loss: 0.0161 - val_loss: 0.2615\n",
            "Epoch 387/400\n",
            "13/13 [==============================] - 0s 3ms/step - loss: 0.0126 - val_loss: 0.2898\n",
            "Epoch 388/400\n",
            "13/13 [==============================] - 0s 3ms/step - loss: 0.0143 - val_loss: 0.2278\n",
            "Epoch 389/400\n",
            "13/13 [==============================] - 0s 3ms/step - loss: 0.0110 - val_loss: 0.2357\n",
            "Epoch 390/400\n",
            "13/13 [==============================] - 0s 3ms/step - loss: 0.0110 - val_loss: 0.2222\n",
            "Epoch 391/400\n",
            "13/13 [==============================] - 0s 3ms/step - loss: 0.0135 - val_loss: 0.2158\n",
            "Epoch 392/400\n",
            "13/13 [==============================] - 0s 2ms/step - loss: 0.0106 - val_loss: 0.2156\n",
            "Epoch 393/400\n",
            "13/13 [==============================] - 0s 2ms/step - loss: 0.0112 - val_loss: 0.2455\n",
            "Epoch 394/400\n",
            "13/13 [==============================] - 0s 2ms/step - loss: 0.0104 - val_loss: 0.2645\n",
            "Epoch 395/400\n",
            "13/13 [==============================] - 0s 2ms/step - loss: 0.0129 - val_loss: 0.2296\n",
            "Epoch 396/400\n",
            "13/13 [==============================] - 0s 3ms/step - loss: 0.0097 - val_loss: 0.2289\n",
            "Epoch 397/400\n",
            "13/13 [==============================] - 0s 2ms/step - loss: 0.0117 - val_loss: 0.2229\n",
            "Epoch 398/400\n",
            "13/13 [==============================] - 0s 2ms/step - loss: 0.0119 - val_loss: 0.2227\n",
            "Epoch 399/400\n",
            "13/13 [==============================] - 0s 2ms/step - loss: 0.0098 - val_loss: 0.2257\n",
            "Epoch 400/400\n",
            "13/13 [==============================] - 0s 3ms/step - loss: 0.0103 - val_loss: 0.2414\n"
          ],
          "name": "stdout"
        },
        {
          "output_type": "execute_result",
          "data": {
            "text/plain": [
              "<tensorflow.python.keras.callbacks.History at 0x7f13dcdc6828>"
            ]
          },
          "metadata": {
            "tags": []
          },
          "execution_count": 39
        }
      ]
    },
    {
      "cell_type": "code",
      "metadata": {
        "id": "pKUCoFPjymoZ",
        "outputId": "4c5c3b80-00b7-4a57-e2d5-71d49bf7f1d1",
        "colab": {
          "base_uri": "https://localhost:8080/",
          "height": 415
        }
      },
      "source": [
        "losses = pd.DataFrame(model.history.history)\n",
        "losses"
      ],
      "execution_count": null,
      "outputs": [
        {
          "output_type": "execute_result",
          "data": {
            "text/html": [
              "<div>\n",
              "<style scoped>\n",
              "    .dataframe tbody tr th:only-of-type {\n",
              "        vertical-align: middle;\n",
              "    }\n",
              "\n",
              "    .dataframe tbody tr th {\n",
              "        vertical-align: top;\n",
              "    }\n",
              "\n",
              "    .dataframe thead th {\n",
              "        text-align: right;\n",
              "    }\n",
              "</style>\n",
              "<table border=\"1\" class=\"dataframe\">\n",
              "  <thead>\n",
              "    <tr style=\"text-align: right;\">\n",
              "      <th></th>\n",
              "      <th>loss</th>\n",
              "      <th>val_loss</th>\n",
              "    </tr>\n",
              "  </thead>\n",
              "  <tbody>\n",
              "    <tr>\n",
              "      <th>0</th>\n",
              "      <td>0.633780</td>\n",
              "      <td>0.613365</td>\n",
              "    </tr>\n",
              "    <tr>\n",
              "      <th>1</th>\n",
              "      <td>0.587934</td>\n",
              "      <td>0.574357</td>\n",
              "    </tr>\n",
              "    <tr>\n",
              "      <th>2</th>\n",
              "      <td>0.548689</td>\n",
              "      <td>0.540161</td>\n",
              "    </tr>\n",
              "    <tr>\n",
              "      <th>3</th>\n",
              "      <td>0.510644</td>\n",
              "      <td>0.505358</td>\n",
              "    </tr>\n",
              "    <tr>\n",
              "      <th>4</th>\n",
              "      <td>0.473010</td>\n",
              "      <td>0.467040</td>\n",
              "    </tr>\n",
              "    <tr>\n",
              "      <th>...</th>\n",
              "      <td>...</td>\n",
              "      <td>...</td>\n",
              "    </tr>\n",
              "    <tr>\n",
              "      <th>395</th>\n",
              "      <td>0.009731</td>\n",
              "      <td>0.228863</td>\n",
              "    </tr>\n",
              "    <tr>\n",
              "      <th>396</th>\n",
              "      <td>0.011651</td>\n",
              "      <td>0.222926</td>\n",
              "    </tr>\n",
              "    <tr>\n",
              "      <th>397</th>\n",
              "      <td>0.011891</td>\n",
              "      <td>0.222702</td>\n",
              "    </tr>\n",
              "    <tr>\n",
              "      <th>398</th>\n",
              "      <td>0.009802</td>\n",
              "      <td>0.225724</td>\n",
              "    </tr>\n",
              "    <tr>\n",
              "      <th>399</th>\n",
              "      <td>0.010311</td>\n",
              "      <td>0.241441</td>\n",
              "    </tr>\n",
              "  </tbody>\n",
              "</table>\n",
              "<p>400 rows × 2 columns</p>\n",
              "</div>"
            ],
            "text/plain": [
              "         loss  val_loss\n",
              "0    0.633780  0.613365\n",
              "1    0.587934  0.574357\n",
              "2    0.548689  0.540161\n",
              "3    0.510644  0.505358\n",
              "4    0.473010  0.467040\n",
              "..        ...       ...\n",
              "395  0.009731  0.228863\n",
              "396  0.011651  0.222926\n",
              "397  0.011891  0.222702\n",
              "398  0.009802  0.225724\n",
              "399  0.010311  0.241441\n",
              "\n",
              "[400 rows x 2 columns]"
            ]
          },
          "metadata": {
            "tags": []
          },
          "execution_count": 40
        }
      ]
    },
    {
      "cell_type": "code",
      "metadata": {
        "id": "KdmqioIo6MaL",
        "outputId": "bea8e332-4ebb-4c5c-b2c0-955a7a4a7b2f",
        "colab": {
          "base_uri": "https://localhost:8080/",
          "height": 283
        }
      },
      "source": [
        "losses.plot()"
      ],
      "execution_count": null,
      "outputs": [
        {
          "output_type": "execute_result",
          "data": {
            "text/plain": [
              "<matplotlib.axes._subplots.AxesSubplot at 0x7f13dc447b00>"
            ]
          },
          "metadata": {
            "tags": []
          },
          "execution_count": 41
        },
        {
          "output_type": "display_data",
          "data": {
            "image/png": "[encoded data removed]",
            "text/plain": [
              "<Figure size 432x288 with 1 Axes>"
            ]
          },
          "metadata": {
            "tags": [],
            "needs_background": "light"
          }
        }
      ]
    },
    {
      "cell_type": "code",
      "metadata": {
        "id": "3ldumUIrymq1",
        "outputId": "dc823ace-5b1f-43d3-e78d-d980d31e663b",
        "colab": {
          "base_uri": "https://localhost:8080/",
          "height": 89
        }
      },
      "source": [
        "predictions = model.predict_classes(X_test)"
      ],
      "execution_count": null,
      "outputs": [
        {
          "output_type": "stream",
          "text": [
            "WARNING:tensorflow:From <ipython-input-42-bc83193b8b59>:1: Sequential.predict_classes (from tensorflow.python.keras.engine.sequential) is deprecated and will be removed after 2021-01-01.\n",
            "Instructions for updating:\n",
            "Please use instead:* `np.argmax(model.predict(x), axis=-1)`,   if your model does multi-class classification   (e.g. if it uses a `softmax` last-layer activation).* `(model.predict(x) > 0.5).astype(\"int32\")`,   if your model does binary classification   (e.g. if it uses a `sigmoid` last-layer activation).\n"
          ],
          "name": "stdout"
        }
      ]
    },
    {
      "cell_type": "code",
      "metadata": {
        "id": "GjCpZD7fymwJ"
      },
      "source": [
        "from sklearn.metrics import classification_report,confusion_matrix"
      ],
      "execution_count": null,
      "outputs": []
    },
    {
      "cell_type": "code",
      "metadata": {
        "id": "_bO9nxiIymyv",
        "outputId": "54e0a90d-0ec6-4e80-e26c-bdd20cf320d3",
        "colab": {
          "base_uri": "https://localhost:8080/",
          "height": 173
        }
      },
      "source": [
        "print(classification_report(y_test,predictions))"
      ],
      "execution_count": null,
      "outputs": [
        {
          "output_type": "stream",
          "text": [
            "              precision    recall  f1-score   support\n",
            "\n",
            "           0       0.92      0.97      0.94        61\n",
            "           1       0.98      0.95      0.97       110\n",
            "\n",
            "    accuracy                           0.96       171\n",
            "   macro avg       0.95      0.96      0.96       171\n",
            "weighted avg       0.96      0.96      0.96       171\n",
            "\n"
          ],
          "name": "stdout"
        }
      ]
    },
    {
      "cell_type": "code",
      "metadata": {
        "id": "Lt5NFVVU7Ch0",
        "outputId": "49543b76-cc98-463a-91b9-1dc5dbb9fd4c",
        "colab": {
          "base_uri": "https://localhost:8080/",
          "height": 52
        }
      },
      "source": [
        "print(confusion_matrix(y_test,predictions))"
      ],
      "execution_count": null,
      "outputs": [
        {
          "output_type": "stream",
          "text": [
            "[[ 59   2]\n",
            " [  5 105]]\n"
          ],
          "name": "stdout"
        }
      ]
    },
    {
      "cell_type": "code",
      "metadata": {
        "id": "RhOg5QWG7NNJ",
        "outputId": "4adb2233-cb4f-4a57-9c98-86b649921449",
        "colab": {
          "base_uri": "https://localhost:8080/",
          "height": 121
        }
      },
      "source": [
        "X_test[110].reshape(1,30)"
      ],
      "execution_count": null,
      "outputs": [
        {
          "output_type": "execute_result",
          "data": {
            "text/plain": [
              "array([[0.20984393, 0.19580656, 0.20676403, 0.10540827, 0.20953514,\n",
              "        0.28225262, 0.23616323, 0.14411918, 0.37878788, 0.48945055,\n",
              "        0.08991993, 0.1562058 , 0.10054479, 0.0301981 , 0.29462556,\n",
              "        0.61871567, 0.6170684 , 0.500489  , 0.060618  , 0.51939315,\n",
              "        0.14621131, 0.18416844, 0.14602321, 0.06508061, 0.25774285,\n",
              "        0.24605369, 0.25820513, 0.28426117, 0.14065099, 0.32310114]])"
            ]
          },
          "metadata": {
            "tags": []
          },
          "execution_count": 50
        }
      ]
    },
    {
      "cell_type": "code",
      "metadata": {
        "id": "3Ehd-SIJ7NZi",
        "outputId": "aa8fa895-c8e6-42b6-8f57-34db28f8c98f",
        "colab": {
          "base_uri": "https://localhost:8080/",
          "height": 35
        }
      },
      "source": [
        "model.predict_classes(X_test[110].reshape(1,30))"
      ],
      "execution_count": null,
      "outputs": [
        {
          "output_type": "execute_result",
          "data": {
            "text/plain": [
              "array([[1]], dtype=int32)"
            ]
          },
          "metadata": {
            "tags": []
          },
          "execution_count": 51
        }
      ]
    },
    {
      "cell_type": "code",
      "metadata": {
        "id": "8k1mLw6E7Nf5",
        "outputId": "6025e761-20bb-40d4-d5bd-24cc0d55a860",
        "colab": {
          "base_uri": "https://localhost:8080/",
          "height": 35
        }
      },
      "source": [
        "y_test[110]"
      ],
      "execution_count": null,
      "outputs": [
        {
          "output_type": "execute_result",
          "data": {
            "text/plain": [
              "1"
            ]
          },
          "metadata": {
            "tags": []
          },
          "execution_count": 52
        }
      ]
    },
    {
      "cell_type": "code",
      "metadata": {
        "id": "fKJCkw-28CLX"
      },
      "source": [
        "model.save('my_model.h5')"
      ],
      "execution_count": null,
      "outputs": []
    },
    {
      "cell_type": "code",
      "metadata": {
        "id": "Rf28ZHvN75_5"
      },
      "source": [
        "from tensorflow.keras.models import load_model"
      ],
      "execution_count": null,
      "outputs": []
    },
    {
      "cell_type": "code",
      "metadata": {
        "id": "Wro-z_9P76C7"
      },
      "source": [
        "later_model = load_model('my_model.h5')"
      ],
      "execution_count": null,
      "outputs": []
    },
    {
      "cell_type": "code",
      "metadata": {
        "id": "4HqaTfJr7Nis",
        "outputId": "6c36f323-03a0-4576-c533-bb3d924c67f1",
        "colab": {
          "base_uri": "https://localhost:8080/",
          "height": 35
        }
      },
      "source": [
        "later_model.predict_classes(X_test[110].reshape(1,30))"
      ],
      "execution_count": null,
      "outputs": [
        {
          "output_type": "execute_result",
          "data": {
            "text/plain": [
              "array([[1]], dtype=int32)"
            ]
          },
          "metadata": {
            "tags": []
          },
          "execution_count": 56
        }
      ]
    },
    {
      "cell_type": "code",
      "metadata": {
        "id": "zP6P3gh5DQpG"
      },
      "source": [
        "import numpy as np"
      ],
      "execution_count": null,
      "outputs": []
    },
    {
      "cell_type": "code",
      "metadata": {
        "id": "wLk8OTYlDQrk"
      },
      "source": [
        "from sklearn.preprocessing import StandardScaler"
      ],
      "execution_count": null,
      "outputs": []
    },
    {
      "cell_type": "code",
      "metadata": {
        "id": "Kdxr2hZ0IZRQ"
      },
      "source": [
        "x = [[np.nan, 11], \n",
        "     [4,      np.nan], \n",
        "     [8,      2],\n",
        "     [np.nan, 1]]"
      ],
      "execution_count": null,
      "outputs": []
    },
    {
      "cell_type": "code",
      "metadata": {
        "id": "1Xqu1RdFIi9K"
      },
      "source": [
        "scaler = StandardScaler()"
      ],
      "execution_count": null,
      "outputs": []
    },
    {
      "cell_type": "code",
      "metadata": {
        "id": "GTFA5Gz2Iprz"
      },
      "source": [
        "x_fit = scaler.fit(x)"
      ],
      "execution_count": null,
      "outputs": []
    },
    {
      "cell_type": "code",
      "metadata": {
        "id": "wqNhFpCgIt83",
        "outputId": "33f0ecac-06b8-45d3-888c-2fea43b9ee5f",
        "colab": {
          "base_uri": "https://localhost:8080/",
          "height": 34
        }
      },
      "source": [
        "print(x_fit)"
      ],
      "execution_count": null,
      "outputs": [
        {
          "output_type": "stream",
          "text": [
            "StandardScaler(copy=True, with_mean=True, with_std=True)\n"
          ],
          "name": "stdout"
        }
      ]
    },
    {
      "cell_type": "code",
      "metadata": {
        "id": "Igb1T5Y-I8s0"
      },
      "source": [
        "x_transform = scaler.transform(x)"
      ],
      "execution_count": null,
      "outputs": []
    },
    {
      "cell_type": "code",
      "metadata": {
        "id": "Jx9ubaE-JW31",
        "outputId": "37f2b5b6-c8a8-42ce-c9ad-fb2c64f2b39d",
        "colab": {
          "base_uri": "https://localhost:8080/",
          "height": 87
        }
      },
      "source": [
        "print(x_transform)"
      ],
      "execution_count": null,
      "outputs": [
        {
          "output_type": "stream",
          "text": [
            "[[        nan  1.4083737 ]\n",
            " [-1.                 nan]\n",
            " [ 1.         -0.59299945]\n",
            " [        nan -0.81537425]]\n"
          ],
          "name": "stdout"
        }
      ]
    },
    {
      "cell_type": "code",
      "metadata": {
        "id": "0DeMKNpCJaKj"
      },
      "source": [
        "x_fit_transform = scaler.fit_transform(x)"
      ],
      "execution_count": null,
      "outputs": []
    },
    {
      "cell_type": "code",
      "metadata": {
        "id": "uGBHw6g5KdvP",
        "outputId": "ba0c63a6-d004-4201-b6f2-cd5b7a68e85b",
        "colab": {
          "base_uri": "https://localhost:8080/",
          "height": 87
        }
      },
      "source": [
        "print(x_fit_transform)"
      ],
      "execution_count": null,
      "outputs": [
        {
          "output_type": "stream",
          "text": [
            "[[        nan  1.4083737 ]\n",
            " [-1.                 nan]\n",
            " [ 1.         -0.59299945]\n",
            " [        nan -0.81537425]]\n"
          ],
          "name": "stdout"
        }
      ]
    },
    {
      "cell_type": "code",
      "metadata": {
        "id": "GfICbkEEK4ma"
      },
      "source": [
        ""
      ],
      "execution_count": null,
      "outputs": []
    }
  ]
}